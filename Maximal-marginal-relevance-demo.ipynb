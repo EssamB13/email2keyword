{
 "cells": [
  {
   "cell_type": "code",
   "execution_count": 5,
   "id": "infectious-escape",
   "metadata": {},
   "outputs": [],
   "source": [
    "from rake_nltk import Rake, Metric\n",
    "from sklearn.feature_extraction.text import CountVectorizer\n",
    "from sentence_transformers import SentenceTransformer\n",
    "from sklearn.metrics.pairwise import cosine_similarity\n",
    "import numpy as np\n",
    "\n",
    "\n",
    "\n",
    "# Maximal Marginal Relevance (MMR): MMR tries to minimize redundancy and maximize the diversity of results in text summarization tasks.\n",
    "\n",
    "def mmr(doc_embedding, word_embeddings, words, top_n, diversity):\n",
    "\n",
    "    # Extract similarity within words, and between words and the document\n",
    "    word_doc_similarity = cosine_similarity(word_embeddings, doc_embedding)\n",
    "    word_similarity = cosine_similarity(word_embeddings)\n",
    "\n",
    "    # Initialize candidates and already choose best keyword/keyphras\n",
    "    keywords_idx = [np.argmax(word_doc_similarity)]\n",
    "    candidates_idx = [i for i in range(len(words)) if i != keywords_idx[0]]\n",
    "\n",
    "    for _ in range(top_n - 1):\n",
    "\n",
    "        # Extract similarities within candidates and\n",
    "        # between candidates and selected keywords/phrases\n",
    "        candidate_similarities = word_doc_similarity[candidates_idx, :]\n",
    "        target_similarities = np.max(word_similarity[candidates_idx][:, keywords_idx], axis=1)\n",
    "\n",
    "        # Calculate MMR\n",
    "        mmr = (1-diversity) * candidate_similarities - diversity * target_similarities.reshape(-1, 1)\n",
    "        mmr_idx = candidates_idx[np.argmax(mmr)]\n",
    "\n",
    "        # Update keywords & candidates\n",
    "        keywords_idx.append(mmr_idx)\n",
    "        candidates_idx.remove(mmr_idx)\n",
    "\n",
    "    return [words[idx] for idx in keywords_idx]"
   ]
  },
  {
   "cell_type": "code",
   "execution_count": 6,
   "id": "defensive-hawaiian",
   "metadata": {},
   "outputs": [],
   "source": [
    "\n",
    "n_gram_range = (1, 3)\n",
    "stop_words = \"english\"\n",
    "\n",
    "doc = \"\"\"\n",
    "HMB443H1: Global Hidden Hunger will be offered this summer!\n",
    "\n",
    "In this course, you will discuss global food insecurity and come up with tangible ways to address equity \n",
    "in health and access to food, poverty and metabolic diseases that relate to deficiencies and the 'hidden hunger' \n",
    "that leads to deterioration of health across populations. Hidden Hunger is preventable and this course begins \n",
    "to practically address these issues and is really for anyone who is interested in the concepts of health access, \n",
    "inequity and food security. This course also features a virtual service learning component with a partner in British Columbia.\n",
    "\n",
    "Prerequisites: 12 FCE complete, At least 0.5 HMB 300-Level Courses.\n",
    "\n",
    "If you are interested in taking this course, please click on the link below. \n",
    " \n",
    "\"\"\"\n"
   ]
  },
  {
   "cell_type": "code",
   "execution_count": 8,
   "id": "obvious-talent",
   "metadata": {},
   "outputs": [
    {
     "name": "stdout",
     "output_type": "stream",
     "text": [
      "discuss global food\n",
      "poverty metabolic diseases\n",
      "hunger offered summer\n",
      "virtual service learning\n",
      "address equity health\n",
      "british columbia prerequisites\n",
      "hidden hunger preventable\n",
      "global food insecurity\n",
      "food security course\n",
      "300 level courses\n",
      "hmb443h1 global hidden\n",
      "access food poverty\n",
      "hunger leads deterioration\n",
      "global hidden hunger\n",
      "summer course discuss\n"
     ]
    }
   ],
   "source": [
    "# Extract candidate words/phrases\n",
    "count = CountVectorizer(ngram_range=n_gram_range, stop_words=stop_words).fit([doc])\n",
    "candidates = count.get_feature_names()\n",
    "\n",
    "model = SentenceTransformer('distilbert-base-nli-mean-tokens')\n",
    "doc_embedding = model.encode([doc])\n",
    "candidate_embeddings = model.encode(candidates)\n",
    "\n",
    "keywords = mmr(doc_embedding, candidate_embeddings, candidates, top_n=15, diversity=0.5)\n",
    "\n",
    "for word in keywords:\n",
    "    print (word)"
   ]
  },
  {
   "cell_type": "code",
   "execution_count": 11,
   "id": "wound-hammer",
   "metadata": {},
   "outputs": [
    {
     "name": "stdout",
     "output_type": "stream",
     "text": [
      "theme future healthcare\n",
      "undergraduate students discuss\n",
      "ngo research fairs\n",
      "10 minute presentations\n",
      "accessibility important issue\n",
      "file 187mnt902qeruceop1vm9m6gh_lrow1me\n",
      "speakers breakout sessions\n",
      "research online health\n",
      "covid 19 pandemic\n",
      "abstracts deadline february\n",
      "rights conference march\n",
      "healthcare accessibility important\n",
      "healthcare consider submitting\n",
      "facebook page\n",
      "13th conference bring\n"
     ]
    }
   ],
   "source": [
    "\n",
    "n_gram_range = (1, 3)\n",
    "stop_words = \"english\"\n",
    "\n",
    "doc = \"\"\"\n",
    "HEALTH AND HUMAN RIGHTS CONFERENCE \n",
    "\n",
    " From March 11-13th, this conference will bring together professional, graduate, and undergraduate students to discuss pertinent issues related to this year’s theme: The Future of Healthcare Accessibility. While healthcare accessibility has always been an important issue, the recent COVID-19 pandemic has emphasized the damage that can be caused when health equities and human rights are not respected. We hope to discuss the current issues and questions surrounding healthcare accessibility, as well as future solutions, considerations and innovations. Our event will include speakers, breakout sessions, NGO and research fairs. For more details about the conference program and for registration details, visit our website and/or Facebook page. \n",
    "\n",
    "Call for Abstracts:\n",
    "Deadline: February 12th, 2021 at 11:59PM EST\n",
    "\n",
    "Presentation format: 5-10 minute presentations with Q&A\n",
    "Abstract submission link: https://forms.gle/c6HDdZWMe4BgZQh58  Link to research resources:https://drive.google.com/file/d/187mNT902qeRUCeop1VM9m6gh_lROW1me/view?usp=sharing\n",
    "Description: The Health and Human Rights subcommittee is looking for students as well as professionals who wish to share their work with the rest of the academic community. If you have conducted research on telehealth, or access to healthcare, please consider submitting an abstract for a chance to showcase your research at the online Health and Human Rights Conference.\n",
    " \n",
    "\"\"\"\n",
    "\n",
    "# Extract candidate words/phrases\n",
    "count = CountVectorizer(ngram_range=n_gram_range, stop_words=stop_words).fit([doc])\n",
    "candidates = count.get_feature_names()\n",
    "model = SentenceTransformer('distilbert-base-nli-mean-tokens')\n",
    "doc_embedding = model.encode([doc])\n",
    "candidate_embeddings = model.encode(candidates)\n",
    "\n",
    "keywords = mmr(doc_embedding, candidate_embeddings, candidates, top_n=15, diversity=0.5)\n",
    "\n",
    "for word in keywords:\n",
    "    print (word)"
   ]
  },
  {
   "cell_type": "code",
   "execution_count": null,
   "id": "employed-victor",
   "metadata": {},
   "outputs": [],
   "source": []
  }
 ],
 "metadata": {
  "kernelspec": {
   "display_name": "Python 3",
   "language": "python",
   "name": "python3"
  },
  "language_info": {
   "codemirror_mode": {
    "name": "ipython",
    "version": 3
   },
   "file_extension": ".py",
   "mimetype": "text/x-python",
   "name": "python",
   "nbconvert_exporter": "python",
   "pygments_lexer": "ipython3",
   "version": "3.8.8"
  }
 },
 "nbformat": 4,
 "nbformat_minor": 5
}
